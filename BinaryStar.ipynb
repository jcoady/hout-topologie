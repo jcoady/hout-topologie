{
 "cells": [
  {
   "cell_type": "code",
   "execution_count": null,
   "metadata": {},
   "outputs": [
    {
     "data": {
      "text/html": [
       "<div id=\"glowscript\" class=\"glowscript\"></div>"
      ],
      "text/plain": [
       "<IPython.core.display.HTML object>"
      ]
     },
     "metadata": {},
     "output_type": "display_data"
    },
    {
     "data": {
      "application/javascript": [
       "if (typeof Jupyter !== \"undefined\") { window.__context = { glowscript_container: $(\"#glowscript\").removeAttr(\"id\")};}else{ element.textContent = ' ';}"
      ],
      "text/plain": [
       "<IPython.core.display.Javascript object>"
      ]
     },
     "metadata": {},
     "output_type": "display_data"
    },
    {
     "data": {
      "text/html": [
       "<div id=\"glowscript\" class=\"glowscript\"></div>"
      ],
      "text/plain": [
       "<IPython.core.display.HTML object>"
      ]
     },
     "metadata": {},
     "output_type": "display_data"
    },
    {
     "data": {
      "application/javascript": [
       "if (typeof Jupyter !== \"undefined\") { window.__context = { glowscript_container: $(\"#glowscript\").removeAttr(\"id\")};}else{ element.textContent = ' ';}"
      ],
      "text/plain": [
       "<IPython.core.display.Javascript object>"
      ]
     },
     "metadata": {},
     "output_type": "display_data"
    },
    {
     "data": {
      "application/javascript": [
       "if (typeof Jupyter !== \"undefined\") {require.undef(\"nbextensions/vpython_libraries/glow.min\");}else{element.textContent = ' ';}"
      ],
      "text/plain": [
       "<IPython.core.display.Javascript object>"
      ]
     },
     "metadata": {},
     "output_type": "display_data"
    },
    {
     "data": {
      "application/javascript": [
       "if (typeof Jupyter !== \"undefined\") {require.undef(\"nbextensions/vpython_libraries/glowcomm\");}else{element.textContent = ' ';}"
      ],
      "text/plain": [
       "<IPython.core.display.Javascript object>"
      ]
     },
     "metadata": {},
     "output_type": "display_data"
    },
    {
     "data": {
      "application/javascript": [
       "if (typeof Jupyter !== \"undefined\") {require.undef(\"nbextensions/vpython_libraries/jquery-ui.custom.min\");}else{element.textContent = ' ';}"
      ],
      "text/plain": [
       "<IPython.core.display.Javascript object>"
      ]
     },
     "metadata": {},
     "output_type": "display_data"
    },
    {
     "data": {
      "application/javascript": [
       "if (typeof Jupyter !== \"undefined\") {require([\"nbextensions/vpython_libraries/glow.min\"], function(){console.log(\"GLOW LOADED\");});}else{element.textContent = ' ';}"
      ],
      "text/plain": [
       "<IPython.core.display.Javascript object>"
      ]
     },
     "metadata": {},
     "output_type": "display_data"
    },
    {
     "data": {
      "application/javascript": [
       "if (typeof Jupyter !== \"undefined\") {require([\"nbextensions/vpython_libraries/glowcomm\"], function(){console.log(\"GLOWCOMM LOADED\");});}else{element.textContent = ' ';}"
      ],
      "text/plain": [
       "<IPython.core.display.Javascript object>"
      ]
     },
     "metadata": {},
     "output_type": "display_data"
    },
    {
     "data": {
      "application/javascript": [
       "if (typeof Jupyter !== \"undefined\") {require([\"nbextensions/vpython_libraries/jquery-ui.custom.min\"], function(){console.log(\"JQUERY LOADED\");});}else{element.textContent = ' ';}"
      ],
      "text/plain": [
       "<IPython.core.display.Javascript object>"
      ]
     },
     "metadata": {},
     "output_type": "display_data"
    }
   ],
   "source": [
    "from vpython import *\n",
    "scene = canvas() # This is needed in Jupyter notebook and lab to make programs easily rerunnable\n",
    "G = 6.7e-11\n",
    "scene.forward = vec(0,-.3,-1)\n",
    "\n",
    "giant = sphere(pos=vector(-1e11,0,0), radius=2e10, color=color.red, \n",
    "                make_trail=True, trail_type='points', interval=10, retain=20)\n",
    "giant.mass = 2e30\n",
    "giant.p = vector(0, 0, -1e4) * giant.mass\n",
    "\n",
    "dwarf = sphere(pos=vector(1.5e11,0,0), radius=1e10, color=color.yellow,\n",
    "                make_trail=True, retain=40)\n",
    "dwarf.mass = 1e30\n",
    "dwarf.p = -giant.p\n",
    "\n",
    "dt = 1e5\n",
    "while True:\n",
    "    rate(200)\n",
    "    r = dwarf.pos - giant.pos\n",
    "    F = G * giant.mass * dwarf.mass * norm(r) / mag2(r)\n",
    "    giant.p = giant.p + F*dt\n",
    "    dwarf.p = dwarf.p - F*dt\n",
    "    giant.pos = giant.pos + (giant.p/giant.mass) * dt\n",
    "    dwarf.pos = dwarf.pos + (dwarf.p/dwarf.mass) * dt"
   ]
  },
  {
   "cell_type": "code",
   "execution_count": null,
   "metadata": {},
   "outputs": [],
   "source": [
    "!conda list > pks763.txt\n"
   ]
  },
  {
   "cell_type": "code",
   "execution_count": null,
   "metadata": {},
   "outputs": [],
   "source": [
    "# %load pks763.txt\n",
    "# packages in environment at C:\\Users\\John\\anaconda3\\envs\\vptest7.6.3:\n",
    "#\n",
    "# Name                    Version                   Build  Channel\n",
    "aiohttp                   3.8.1            py39hb82d6ee_1    conda-forge\n",
    "aiosignal                 1.2.0              pyhd8ed1ab_0    conda-forge\n",
    "anyio                     3.5.0            py39hcbf5309_0    conda-forge\n",
    "argon2-cffi               21.3.0             pyhd8ed1ab_0    conda-forge\n",
    "argon2-cffi-bindings      21.2.0           py39hb82d6ee_2    conda-forge\n",
    "asttokens                 2.0.5              pyhd8ed1ab_0    conda-forge\n",
    "async-timeout             4.0.2              pyhd8ed1ab_0    conda-forge\n",
    "attrs                     21.4.0             pyhd8ed1ab_0    conda-forge\n",
    "autobahn                  22.4.1             pyhd8ed1ab_0    conda-forge\n",
    "backcall                  0.2.0              pyh9f0ad1d_0    conda-forge\n",
    "backports                 1.0                        py_2    conda-forge\n",
    "backports.functools_lru_cache 1.6.4              pyhd8ed1ab_0    conda-forge\n",
    "beautifulsoup4            4.11.1             pyha770c72_0    conda-forge\n",
    "bleach                    5.0.0              pyhd8ed1ab_0    conda-forge\n",
    "ca-certificates           2021.10.8            h5b45459_0    conda-forge\n",
    "certifi                   2021.10.8        py39hcbf5309_2    conda-forge\n",
    "cffi                      1.15.0           py39h0878f49_0    conda-forge\n",
    "charset-normalizer        2.0.12             pyhd8ed1ab_0    conda-forge\n",
    "colorama                  0.4.4              pyh9f0ad1d_0    conda-forge\n",
    "cryptography              36.0.2           py39h7bc7c5c_1    conda-forge\n",
    "debugpy                   1.6.0            py39h415ef7b_0    conda-forge\n",
    "decorator                 5.1.1              pyhd8ed1ab_0    conda-forge\n",
    "defusedxml                0.7.1              pyhd8ed1ab_0    conda-forge\n",
    "entrypoints               0.4                pyhd8ed1ab_0    conda-forge\n",
    "executing                 0.8.3              pyhd8ed1ab_0    conda-forge\n",
    "flit-core                 3.7.1              pyhd8ed1ab_0    conda-forge\n",
    "frozenlist                1.3.0            py39hb82d6ee_1    conda-forge\n",
    "gettext                   0.19.8.1          ha2e2712_1008    conda-forge\n",
    "gst-plugins-base          1.20.2               he07aa86_0    conda-forge\n",
    "gstreamer                 1.20.2               hdff456e_0    conda-forge\n",
    "hyperlink                 21.0.0             pyhd3deb0d_0    conda-forge\n",
    "icu                       70.1                 h0e60522_0    conda-forge\n",
    "idna                      3.3                pyhd8ed1ab_0    conda-forge\n",
    "importlib-metadata        4.11.3           py39hcbf5309_1    conda-forge\n",
    "importlib_resources       5.7.1              pyhd8ed1ab_0    conda-forge\n",
    "intel-openmp              2022.0.0          h57928b3_3663    conda-forge\n",
    "ipykernel                 6.13.0           py39h832f523_0    conda-forge\n",
    "ipython                   8.3.0            py39hcbf5309_0    conda-forge\n",
    "ipython_genutils          0.2.0                      py_1    conda-forge\n",
    "ipywidgets                7.7.0              pyhd8ed1ab_0    conda-forge\n",
    "jedi                      0.18.1           py39hcbf5309_1    conda-forge\n",
    "jinja2                    3.1.2              pyhd8ed1ab_0    conda-forge\n",
    "jpeg                      9e                   h8ffe710_1    conda-forge\n",
    "jsonschema                4.5.1              pyhd8ed1ab_0    conda-forge\n",
    "jupyter                   1.0.0            py39hcbf5309_7    conda-forge\n",
    "jupyter-server-proxy      3.2.1              pyhd8ed1ab_0    conda-forge\n",
    "jupyter_client            7.3.1              pyhd8ed1ab_0    conda-forge\n",
    "jupyter_console           6.4.3              pyhd8ed1ab_0    conda-forge\n",
    "jupyter_core              4.10.0           py39hcbf5309_0    conda-forge\n",
    "jupyter_server            1.17.0             pyhd8ed1ab_0    conda-forge\n",
    "jupyterlab_pygments       0.2.2              pyhd8ed1ab_0    conda-forge\n",
    "jupyterlab_widgets        1.1.0              pyhd8ed1ab_0    conda-forge\n",
    "krb5                      1.19.3               h1176d77_0    conda-forge\n",
    "libblas                   3.9.0              14_win64_mkl    conda-forge\n",
    "libcblas                  3.9.0              14_win64_mkl    conda-forge\n",
    "libclang                  13.0.1          default_h81446c8_0    conda-forge\n",
    "libffi                    3.4.2                h8ffe710_5    conda-forge\n",
    "libglib                   2.70.2               h3be07f2_4    conda-forge\n",
    "libiconv                  1.16                 he774522_0    conda-forge\n",
    "liblapack                 3.9.0              14_win64_mkl    conda-forge\n",
    "libogg                    1.3.4                h8ffe710_1    conda-forge\n",
    "libpng                    1.6.37               h1d00b33_2    conda-forge\n",
    "libsodium                 1.0.18               h8d14728_1    conda-forge\n",
    "libvorbis                 1.3.7                h0e60522_0    conda-forge\n",
    "libzlib                   1.2.11            h8ffe710_1014    conda-forge\n",
    "lz4-c                     1.9.3                h8ffe710_1    conda-forge\n",
    "markupsafe                2.1.1            py39hb82d6ee_1    conda-forge\n",
    "matplotlib-inline         0.1.3              pyhd8ed1ab_0    conda-forge\n",
    "mistune                   0.8.4           py39hb82d6ee_1005    conda-forge\n",
    "mkl                       2022.0.0           h0e2418a_796    conda-forge\n",
    "multidict                 6.0.2            py39hb82d6ee_1    conda-forge\n",
    "nbclient                  0.6.3              pyhd8ed1ab_0    conda-forge\n",
    "nbconvert                 6.5.0              pyhd8ed1ab_0    conda-forge\n",
    "nbconvert-core            6.5.0              pyhd8ed1ab_0    conda-forge\n",
    "nbconvert-pandoc          6.5.0              pyhd8ed1ab_0    conda-forge\n",
    "nbformat                  5.4.0              pyhd8ed1ab_0    conda-forge\n",
    "nest-asyncio              1.5.5              pyhd8ed1ab_0    conda-forge\n",
    "notebook                  6.4.11             pyha770c72_0    conda-forge\n",
    "numpy                     1.22.3           py39h0948cea_2    conda-forge\n",
    "openssl                   1.1.1o               h8ffe710_0    conda-forge\n",
    "packaging                 21.3               pyhd8ed1ab_0    conda-forge\n",
    "pandoc                    2.18                 h57928b3_0    conda-forge\n",
    "pandocfilters             1.5.0              pyhd8ed1ab_0    conda-forge\n",
    "parso                     0.8.3              pyhd8ed1ab_0    conda-forge\n",
    "pcre                      8.45                 h0e60522_0    conda-forge\n",
    "pickleshare               0.7.5                   py_1003    conda-forge\n",
    "pip                       21.2.4           py39haa95532_0  \n",
    "prometheus_client         0.14.1             pyhd8ed1ab_0    conda-forge\n",
    "prompt-toolkit            3.0.29             pyha770c72_0    conda-forge\n",
    "prompt_toolkit            3.0.29               hd8ed1ab_0    conda-forge\n",
    "psutil                    5.9.0            py39hb82d6ee_1    conda-forge\n",
    "pure_eval                 0.2.2              pyhd8ed1ab_0    conda-forge\n",
    "pycparser                 2.21               pyhd8ed1ab_0    conda-forge\n",
    "pygments                  2.12.0             pyhd8ed1ab_0    conda-forge\n",
    "pyparsing                 3.0.9              pyhd8ed1ab_0    conda-forge\n",
    "pyqt                      5.15.4           py39h415ef7b_0    conda-forge\n",
    "pyqt5-sip                 12.9.0           py39h415ef7b_0    conda-forge\n",
    "pyrsistent                0.18.1           py39hb82d6ee_1    conda-forge\n",
    "python                    3.9.12               h6244533_0  \n",
    "python-dateutil           2.8.2              pyhd8ed1ab_0    conda-forge\n",
    "python-fastjsonschema     2.15.3             pyhd8ed1ab_0    conda-forge\n",
    "python_abi                3.9                      2_cp39    conda-forge\n",
    "pywin32                   303              py39hb82d6ee_0    conda-forge\n",
    "pywinpty                  2.0.2            py39h5da7b33_0  \n",
    "pyzmq                     22.3.0           py39he46f08e_2    conda-forge\n",
    "qt-main                   5.15.3               h467ea89_0    conda-forge\n",
    "qtconsole                 5.3.0              pyhd8ed1ab_0    conda-forge\n",
    "qtconsole-base            5.3.0              pyhd8ed1ab_0    conda-forge\n",
    "qtpy                      2.1.0              pyhd8ed1ab_0    conda-forge\n",
    "send2trash                1.8.0              pyhd8ed1ab_0    conda-forge\n",
    "setuptools                61.2.0           py39haa95532_0  \n",
    "simpervisor               0.4                pyhd8ed1ab_0    conda-forge\n",
    "sip                       6.5.1            py39h415ef7b_2    conda-forge\n",
    "six                       1.16.0             pyh6c4a22f_0    conda-forge\n",
    "sniffio                   1.2.0            py39hcbf5309_3    conda-forge\n",
    "soupsieve                 2.3.1              pyhd8ed1ab_0    conda-forge\n",
    "sqlite                    3.38.3               h2bbff1b_0  \n",
    "stack_data                0.2.0              pyhd8ed1ab_0    conda-forge\n",
    "tbb                       2021.5.0             h2d74725_1    conda-forge\n",
    "terminado                 0.13.1           py39haa95532_0  \n",
    "tinycss2                  1.1.1              pyhd8ed1ab_0    conda-forge\n",
    "toml                      0.10.2             pyhd8ed1ab_0    conda-forge\n",
    "tornado                   6.1              py39hb82d6ee_3    conda-forge\n",
    "traitlets                 5.2.0              pyhd8ed1ab_0    conda-forge\n",
    "txaio                     21.2.1             pyhd8ed1ab_0    conda-forge\n",
    "typing-extensions         4.2.0                hd8ed1ab_1    conda-forge\n",
    "typing_extensions         4.2.0              pyha770c72_1    conda-forge\n",
    "tzdata                    2022a                hda174b7_0  \n",
    "vc                        14.2                 h21ff451_1  \n",
    "vpython                   7.6.3            py39hb82d6ee_1    conda-forge\n",
    "vs2015_runtime            14.27.29016          h5e58377_2  \n",
    "wcwidth                   0.2.5              pyh9f0ad1d_2    conda-forge\n",
    "webencodings              0.5.1                      py_1    conda-forge\n",
    "websocket-client          1.3.2              pyhd8ed1ab_0    conda-forge\n",
    "wheel                     0.37.1             pyhd3eb1b0_0  \n",
    "widgetsnbextension        3.6.0            py39hcbf5309_0    conda-forge\n",
    "wincertstore              0.2              py39haa95532_2  \n",
    "winpty                    0.4.3                         4    conda-forge\n",
    "xz                        5.2.5                h62dcd97_1    conda-forge\n",
    "yarl                      1.7.2            py39hb82d6ee_2    conda-forge\n",
    "zeromq                    4.3.4                h0e60522_1    conda-forge\n",
    "zipp                      3.8.0              pyhd8ed1ab_0    conda-forge\n",
    "zlib                      1.2.11            h8ffe710_1014    conda-forge\n",
    "zstd                      1.5.2                h6255e5f_0    conda-forge\n"
   ]
  },
  {
   "cell_type": "code",
   "execution_count": null,
   "metadata": {},
   "outputs": [],
   "source": [
    "conda list vpython"
   ]
  },
  {
   "cell_type": "code",
   "execution_count": null,
   "metadata": {},
   "outputs": [],
   "source": [
    "pip install jupyterlab-vpython"
   ]
  },
  {
   "cell_type": "code",
   "execution_count": null,
   "metadata": {},
   "outputs": [],
   "source": [
    "from vpython import *\n",
    "scene = canvas(visualized=False) \n"
   ]
  },
  {
   "cell_type": "code",
   "execution_count": null,
   "metadata": {},
   "outputs": [],
   "source": [
    "scene.visualized"
   ]
  },
  {
   "cell_type": "code",
   "execution_count": null,
   "metadata": {},
   "outputs": [],
   "source": [
    "def is_lab_notebook():\n",
    "        import re\n",
    "        import psutil\n",
    "        \n",
    "        return any(re.search('jupyter-lab-script', x)\n",
    "                   for x in psutil.Process().parent().cmdline())\n",
    "\n",
    "is_lab_notebook()"
   ]
  }
 ],
 "metadata": {
  "@webio": {
   "lastCommId": null,
   "lastKernelId": null
  },
  "anaconda-cloud": {},
  "kernelspec": {
   "display_name": "Python 3 (ipykernel)",
   "language": "python",
   "name": "python3"
  },
  "language_info": {
   "codemirror_mode": {
    "name": "ipython",
    "version": 3
   },
   "file_extension": ".py",
   "mimetype": "text/x-python",
   "name": "python",
   "nbconvert_exporter": "python",
   "pygments_lexer": "ipython3",
   "version": "3.10.5"
  }
 },
 "nbformat": 4,
 "nbformat_minor": 4
}
